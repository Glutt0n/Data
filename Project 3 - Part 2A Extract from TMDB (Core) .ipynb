{
 "cells": [
  {
   "cell_type": "markdown",
   "id": "4fd19a99",
   "metadata": {},
   "source": [
    "# Your stakeholder wants you to extract the budget, revenue, and MPAA Rating (G/PG/PG-13/R), which is also called \"Certification\"."
   ]
  },
  {
   "cell_type": "code",
   "execution_count": 1,
   "id": "c872d106",
   "metadata": {
    "scrolled": true
   },
   "outputs": [
    {
     "name": "stdout",
     "output_type": "stream",
     "text": [
      "Requirement already satisfied: tmdbsimple in /opt/homebrew/Caskroom/miniforge/base/envs/dojo-env/lib/python3.9/site-packages (2.9.1)\r\n",
      "Requirement already satisfied: requests in /opt/homebrew/Caskroom/miniforge/base/envs/dojo-env/lib/python3.9/site-packages (from tmdbsimple) (2.28.1)\r\n",
      "Requirement already satisfied: urllib3<1.27,>=1.21.1 in /opt/homebrew/Caskroom/miniforge/base/envs/dojo-env/lib/python3.9/site-packages (from requests->tmdbsimple) (1.26.13)\r\n",
      "Requirement already satisfied: idna<4,>=2.5 in /opt/homebrew/Caskroom/miniforge/base/envs/dojo-env/lib/python3.9/site-packages (from requests->tmdbsimple) (3.4)\r\n",
      "Requirement already satisfied: charset-normalizer<3,>=2 in /opt/homebrew/Caskroom/miniforge/base/envs/dojo-env/lib/python3.9/site-packages (from requests->tmdbsimple) (2.0.4)\r\n",
      "Requirement already satisfied: certifi>=2017.4.17 in /opt/homebrew/Caskroom/miniforge/base/envs/dojo-env/lib/python3.9/site-packages (from requests->tmdbsimple) (2022.9.24)\r\n"
     ]
    }
   ],
   "source": [
    "# imports\n",
    "import pandas as pd\n",
    "import os, time,json\n",
    "! pip install tmdbsimple\n",
    "import tmdbsimple as tmdb\n",
    "from tqdm.notebook import tqdm_notebook"
   ]
  },
  {
   "cell_type": "code",
   "execution_count": 2,
   "id": "c755811b",
   "metadata": {},
   "outputs": [],
   "source": [
    "# Functions:\n",
    "def get_movie_with_rating(movie_id):\n",
    "#     get movie object for current id\n",
    "    movie=tmdb.Movies(movie_id)\n",
    "#     save .info .releases dictionaries\n",
    "    info=movie.info()\n",
    "    releases=movie.releases()\n",
    "#     Loop through countrires in releases\n",
    "    for c in releases['countries']:\n",
    "#         if country abbreviation==US\n",
    "        if c['iso_3166_1']=='US':\n",
    "#             save a 'certification' key in info with the certification\n",
    "            info['certification'] = c['certification']\n",
    "    return info\n",
    "\n",
    "\n",
    "\n",
    "def write_json(new_data, filename): # Appends a list of records (new_data) to a json file (filename)\n",
    "    \"\"\" Adapted from: https://www.geeksforgeeks.org/append-to-json-file-using-python/\"\"\"  \n",
    "    \n",
    "    with open(filename,'r+') as file:\n",
    "        # First we load existing data into a dict.\n",
    "        file_data = json.load(file)\n",
    "        ## Choose extend or append\n",
    "        if (type(new_data) == list) & (type(file_data) == list):\n",
    "            file_data.extend(new_data)\n",
    "        else:\n",
    "             file_data.append(new_data)\n",
    "        # Sets file's current position at offset.\n",
    "        file.seek(0)\n",
    "        # convert back to json.\n",
    "        json.dump(file_data, file)"
   ]
  },
  {
   "cell_type": "code",
   "execution_count": 3,
   "id": "4a5ad145",
   "metadata": {},
   "outputs": [
    {
     "data": {
      "text/plain": [
       "dict_keys(['api-key'])"
      ]
     },
     "execution_count": 3,
     "metadata": {},
     "output_type": "execute_result"
    }
   ],
   "source": [
    "# Loading login credentials\n",
    "with open('/Users/Oliver/.secret/tmdb_api.json', 'r') as f:\n",
    "    login = json.load(f)\n",
    "# Displaying keys of loaded in \n",
    "login.keys()"
   ]
  },
  {
   "cell_type": "code",
   "execution_count": 4,
   "id": "0bf20f90",
   "metadata": {},
   "outputs": [],
   "source": [
    "tmdb.API_KEY = login['api-key']"
   ]
  },
  {
   "cell_type": "code",
   "execution_count": 5,
   "id": "11f5bdcf",
   "metadata": {
    "scrolled": true
   },
   "outputs": [
    {
     "name": "stdout",
     "output_type": "stream",
     "text": [
      "{'adult': False, 'backdrop_path': '/9BBTo63ANSmhC4e6r62OJFuK2GL.jpg', 'belongs_to_collection': {'id': 86311, 'name': 'The Avengers Collection', 'poster_path': '/yFSIUVTCvgYrpalUktulvk3Gi5Y.jpg', 'backdrop_path': '/zuW6fOiusv4X9nnW3paHGfXcSll.jpg'}, 'budget': 220000000, 'genres': [{'id': 878, 'name': 'Science Fiction'}, {'id': 28, 'name': 'Action'}, {'id': 12, 'name': 'Adventure'}], 'homepage': 'https://www.marvel.com/movies/the-avengers', 'id': 24428, 'imdb_id': 'tt0848228', 'original_language': 'en', 'original_title': 'The Avengers', 'overview': 'When an unexpected enemy emerges and threatens global safety and security, Nick Fury, director of the international peacekeeping agency known as S.H.I.E.L.D., finds himself in need of a team to pull the world back from the brink of disaster. Spanning the globe, a daring recruitment effort begins!', 'popularity': 144.021, 'poster_path': '/RYMX2wcKCBAr24UyPD7xwmjaTn.jpg', 'production_companies': [{'id': 420, 'logo_path': '/hUzeosd33nzE5MCNsZxCGEKTXaQ.png', 'name': 'Marvel Studios', 'origin_country': 'US'}], 'production_countries': [{'iso_3166_1': 'US', 'name': 'United States of America'}], 'release_date': '2012-04-25', 'revenue': 1518815515, 'runtime': 143, 'spoken_languages': [{'english_name': 'English', 'iso_639_1': 'en', 'name': 'English'}, {'english_name': 'Hindi', 'iso_639_1': 'hi', 'name': 'हिन्दी'}, {'english_name': 'Russian', 'iso_639_1': 'ru', 'name': 'Pусский'}], 'status': 'Released', 'tagline': 'Some assembly required.', 'title': 'The Avengers', 'video': False, 'vote_average': 7.707, 'vote_count': 28541}\n",
      "{'adult': False, 'backdrop_path': '/qom1SZSENdmHFNZBXbtJAU0WTlC.jpg', 'belongs_to_collection': None, 'budget': 29000000, 'genres': [{'id': 10749, 'name': 'Romance'}, {'id': 18, 'name': 'Drama'}], 'homepage': 'http://www.newline.com/properties/notebookthe.html', 'id': 11036, 'imdb_id': 'tt0332280', 'original_language': 'en', 'original_title': 'The Notebook', 'overview': \"An epic love story centered around an older man who reads aloud to a woman with Alzheimer's. From a faded notebook, the old man's words bring to life the story about a couple who is separated by World War II, and is then passionately reunited, seven years later, after they have taken different paths.\", 'popularity': 53.27, 'poster_path': '/rNzQyW4f8B8cQeg7Dgj3n6eT5k9.jpg', 'production_companies': [{'id': 12, 'logo_path': '/5ThIuO93vsk47oexKTSdfKEr7EC.png', 'name': 'New Line Cinema', 'origin_country': 'US'}, {'id': 1565, 'logo_path': None, 'name': 'Avery Pix', 'origin_country': 'US'}, {'id': 2605, 'logo_path': None, 'name': 'Gran Via Productions', 'origin_country': 'US'}], 'production_countries': [{'iso_3166_1': 'US', 'name': 'United States of America'}], 'release_date': '2004-06-25', 'revenue': 115603229, 'runtime': 123, 'spoken_languages': [{'english_name': 'English', 'iso_639_1': 'en', 'name': 'English'}], 'status': 'Released', 'tagline': 'Behind every great love is a great story.', 'title': 'The Notebook', 'video': False, 'vote_average': 7.878, 'vote_count': 10305}\n"
     ]
    }
   ],
   "source": [
    "# Confirming API Function works.\n",
    "#testing to see if retrieval from db is possible with ids: tt0848228 (\"The Avengers\") and tt0332280 (\"The Notebook\").\n",
    "movie = tmdb.Movies('tt0848228')\n",
    "info = movie.info()\n",
    "print(info)\n",
    "\n",
    "movie = tmdb.Movies('tt0332280')\n",
    "info = movie.info()\n",
    "print(info)"
   ]
  },
  {
   "cell_type": "code",
   "execution_count": 6,
   "id": "6456a963",
   "metadata": {
    "scrolled": true
   },
   "outputs": [
    {
     "data": {
      "text/plain": [
       "[]"
      ]
     },
     "execution_count": 6,
     "metadata": {},
     "output_type": "execute_result"
    }
   ],
   "source": [
    "# defining folder to hold extracted data\n",
    "FOLDER = \"Desktop/Project_3\"\n",
    "os.makedirs(FOLDER, exist_ok=True)\n",
    "os.listdir(FOLDER)"
   ]
  },
  {
   "cell_type": "markdown",
   "id": "581e3d0e",
   "metadata": {},
   "source": [
    "# Loading in Title Basics Data"
   ]
  },
  {
   "cell_type": "code",
   "execution_count": 7,
   "id": "0ebc2651",
   "metadata": {},
   "outputs": [],
   "source": [
    "# Extracting revenue, budget, and MPAA Rating"
   ]
  },
  {
   "cell_type": "code",
   "execution_count": 8,
   "id": "393e219f",
   "metadata": {},
   "outputs": [],
   "source": [
    "basics = pd.read_csv('Desktop/Data/title_basics.csv.gz') "
   ]
  },
  {
   "cell_type": "code",
   "execution_count": 9,
   "id": "2320e7d9",
   "metadata": {},
   "outputs": [],
   "source": [
    "# defining lists\n",
    "YEARS_TO_GET = [2000,2001] # to specify years in outer loop\n",
    "errors=[] # will append errors"
   ]
  },
  {
   "cell_type": "code",
   "execution_count": 10,
   "id": "f23d59dd",
   "metadata": {},
   "outputs": [
    {
     "data": {
      "application/vnd.jupyter.widget-view+json": {
       "model_id": "ffc6f972c17f452c9bc4dac32ade1bb4",
       "version_major": 2,
       "version_minor": 0
      },
      "text/plain": [
       "YEARS:   0%|          | 0/2 [00:00<?, ?it/s]"
      ]
     },
     "metadata": {},
     "output_type": "display_data"
    },
    {
     "data": {
      "application/vnd.jupyter.widget-view+json": {
       "model_id": "491e2b145d2c4bc39775b95dbc64bceb",
       "version_major": 2,
       "version_minor": 0
      },
      "text/plain": [
       "Movies from 2000:   0%|          | 0/1442 [00:00<?, ?it/s]"
      ]
     },
     "metadata": {},
     "output_type": "display_data"
    },
    {
     "data": {
      "application/vnd.jupyter.widget-view+json": {
       "model_id": "7569939f38894288b74df709fa811242",
       "version_major": 2,
       "version_minor": 0
      },
      "text/plain": [
       "Movies from 2001:   0%|          | 0/1568 [00:00<?, ?it/s]"
      ]
     },
     "metadata": {},
     "output_type": "display_data"
    }
   ],
   "source": [
    "# Outer Loop:\n",
    "for YEAR in tqdm_notebook(YEARS_TO_GET, desc='YEARS', position=0):\n",
    "    #Defining the JSON file to store results for year\n",
    "    JSON_FILE = f'{FOLDER}tmdb_api_results_{YEAR}.json'\n",
    "    \n",
    "        # Check if file exists\n",
    "    file_exists = os.path.isfile(JSON_FILE)\n",
    "\n",
    "    # The code below will create the file and save an empty dictionary with just imdb_id. \n",
    "    # We will be appending to this empty dictionary throughout our calls.\n",
    "    # If it does not exist: create it\n",
    "    if file_exists == False:\n",
    "    # save an empty dict with just \"imdb_id\" to the new json file.\n",
    "        with open(JSON_FILE,'w') as f:\n",
    "            json.dump([{'imdb_id':0}],f)\n",
    "            \n",
    "            #Saving new year as the current df\n",
    "    df = basics.loc[ basics['startYear']==YEAR].copy()\n",
    "    # saving movie ids to list\n",
    "    movie_ids = df['tconst'].copy()\n",
    "    \n",
    "    # Load existing data from json into a dataframe called \"previous_df\"\n",
    "    previous_df = pd.read_json(JSON_FILE)\n",
    "    \n",
    "    # filter out any ids that are already in the JSON_FILE\n",
    "    movie_ids_to_get = movie_ids[~movie_ids.isin(previous_df['imdb_id'])]\n",
    "    \n",
    "#     Inner Loop:\n",
    "        #Get index and movie id from list\n",
    "    for movie_id in tqdm_notebook(movie_ids_to_get,\n",
    "                                  desc=f'Movies from {YEAR}',\n",
    "                                  position=1,\n",
    "                                  leave=True):\n",
    "        try:\n",
    "            # Retrieve then data for the movie id\n",
    "            temp = get_movie_with_rating(movie_id)  \n",
    "            # Append/extend results to existing file using a pre-made function\n",
    "            write_json(temp,JSON_FILE)\n",
    "            # Short 20 ms sleep to prevent overwhelming server\n",
    "            time.sleep(0.02)\n",
    "            \n",
    "        except Exception as e:\n",
    "            errors.append([movie_id, e])\n",
    "    final_year_df = pd.read_json(JSON_FILE)\n",
    "    final_year_df.to_csv(f\"{FOLDER}final_tmdb_data_{YEAR}.csv.gz\",\n",
    "                         compression=\"gzip\", index=False)"
   ]
  },
  {
   "cell_type": "code",
   "execution_count": 11,
   "id": "0da3f4af",
   "metadata": {
    "scrolled": true
   },
   "outputs": [
    {
     "name": "stdout",
     "output_type": "stream",
     "text": [
      "- Total errors: 448\n"
     ]
    }
   ],
   "source": [
    "print(f\"- Total errors: {len(errors)}\")"
   ]
  }
 ],
 "metadata": {
  "kernelspec": {
   "display_name": "Python (dojo-env)",
   "language": "python",
   "name": "dojo-env"
  },
  "language_info": {
   "codemirror_mode": {
    "name": "ipython",
    "version": 3
   },
   "file_extension": ".py",
   "mimetype": "text/x-python",
   "name": "python",
   "nbconvert_exporter": "python",
   "pygments_lexer": "ipython3",
   "version": "3.9.15"
  },
  "toc": {
   "base_numbering": 1,
   "nav_menu": {},
   "number_sections": false,
   "sideBar": true,
   "skip_h1_title": false,
   "title_cell": "Table of Contents",
   "title_sidebar": "Contents",
   "toc_cell": false,
   "toc_position": {},
   "toc_section_display": true,
   "toc_window_display": false
  }
 },
 "nbformat": 4,
 "nbformat_minor": 5
}
